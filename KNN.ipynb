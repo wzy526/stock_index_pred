{
 "cells": [
  {
   "cell_type": "markdown",
   "id": "da60a287",
   "metadata": {},
   "source": [
    "Use KNN classifier to determine whether the return of close price of Tesla will be postive or negative, indicating the stock price went up/down \n",
    "\n",
    "The sectors considered are 'Open', 'High', 'Low', 'Close', 'Adj Close', 'Volume'"
   ]
  },
  {
   "cell_type": "code",
   "execution_count": 1,
   "id": "5fc7e657",
   "metadata": {},
   "outputs": [],
   "source": [
    "# import knn classifier from scikit learn lib\n",
    "import pandas as pd\n",
    "import numpy as np\n",
    "\n",
    "from sklearn.model_selection import train_test_split\n",
    "from sklearn.preprocessing import StandardScaler\n",
    "from sklearn.neighbors import KNeighborsClassifier\n",
    "from sklearn.metrics import confusion_matrix\n",
    "from sklearn.metrics import f1_score\n",
    "from sklearn.metrics import accuracy_score\n",
    "\n",
    "import math\n",
    "\n",
    "import seaborn as sns\n",
    "import matplotlib.pyplot as plt"
   ]
  },
  {
   "cell_type": "code",
   "execution_count": 2,
   "id": "0f52403b",
   "metadata": {
    "scrolled": true
   },
   "outputs": [
    {
     "name": "stdout",
     "output_type": "stream",
     "text": [
      "756\n"
     ]
    }
   ],
   "source": [
    "# read in TSLA data \n",
    "data = pd.read_csv('TSLA_data.csv').drop('Date', axis = 1)\n",
    "print(len(data))"
   ]
  },
  {
   "cell_type": "code",
   "execution_count": 3,
   "id": "325dd99d",
   "metadata": {},
   "outputs": [
    {
     "name": "stdout",
     "output_type": "stream",
     "text": [
      "0\n"
     ]
    }
   ],
   "source": [
    "# check for values that are zeroes\n",
    "zero_count = (data == 0).sum().sum()\n",
    "print(zero_count)"
   ]
  },
  {
   "cell_type": "code",
   "execution_count": 4,
   "id": "a7e27b20",
   "metadata": {},
   "outputs": [
    {
     "name": "stdout",
     "output_type": "stream",
     "text": [
      "0\n"
     ]
    }
   ],
   "source": [
    "# check for missing values\n",
    "nan_count = data.isna().sum().sum()\n",
    "print(nan_count)"
   ]
  },
  {
   "cell_type": "code",
   "execution_count": 5,
   "id": "9b94c9bb",
   "metadata": {},
   "outputs": [],
   "source": [
    "# although it has been checked that there are no missing data or unusual zeroes, will still write out an algorithm \n",
    "# dealing with missing data\n",
    "# clean data, replace zeroes with nan values, then nan values with data mean \n",
    "\n",
    "def replace_zeros_with_mean(df):\n",
    "    df = df.replace(0, np.nan)\n",
    "    df = df.fillna(df.mean(skipna = True))\n",
    "\n",
    "    return df\n",
    "\n",
    "data = replace_zeros_with_mean(data)"
   ]
  },
  {
   "cell_type": "markdown",
   "id": "9015fb8c",
   "metadata": {},
   "source": [
    "The Y value is the result of whether the stock price went up/down, this will be on daily return calculated\n",
    "based on close price "
   ]
  },
  {
   "cell_type": "code",
   "execution_count": 6,
   "id": "29a71c70",
   "metadata": {},
   "outputs": [
    {
     "data": {
      "text/html": [
       "<div>\n",
       "<style scoped>\n",
       "    .dataframe tbody tr th:only-of-type {\n",
       "        vertical-align: middle;\n",
       "    }\n",
       "\n",
       "    .dataframe tbody tr th {\n",
       "        vertical-align: top;\n",
       "    }\n",
       "\n",
       "    .dataframe thead th {\n",
       "        text-align: right;\n",
       "    }\n",
       "</style>\n",
       "<table border=\"1\" class=\"dataframe\">\n",
       "  <thead>\n",
       "    <tr style=\"text-align: right;\">\n",
       "      <th></th>\n",
       "      <th>Open</th>\n",
       "      <th>High</th>\n",
       "      <th>Low</th>\n",
       "      <th>Close</th>\n",
       "      <th>Adj Close</th>\n",
       "      <th>Volume</th>\n",
       "      <th>Return</th>\n",
       "      <th>Output</th>\n",
       "    </tr>\n",
       "  </thead>\n",
       "  <tbody>\n",
       "    <tr>\n",
       "      <th>0</th>\n",
       "      <td>28.299999</td>\n",
       "      <td>28.713333</td>\n",
       "      <td>28.114000</td>\n",
       "      <td>28.684000</td>\n",
       "      <td>28.684000</td>\n",
       "      <td>142981500</td>\n",
       "      <td>0.002965</td>\n",
       "      <td>1</td>\n",
       "    </tr>\n",
       "    <tr>\n",
       "      <th>1</th>\n",
       "      <td>29.366667</td>\n",
       "      <td>30.266666</td>\n",
       "      <td>29.128000</td>\n",
       "      <td>29.534000</td>\n",
       "      <td>29.534000</td>\n",
       "      <td>266677500</td>\n",
       "      <td>0.029633</td>\n",
       "      <td>1</td>\n",
       "    </tr>\n",
       "    <tr>\n",
       "      <th>2</th>\n",
       "      <td>29.364668</td>\n",
       "      <td>30.104000</td>\n",
       "      <td>29.333332</td>\n",
       "      <td>30.102667</td>\n",
       "      <td>30.102667</td>\n",
       "      <td>151995000</td>\n",
       "      <td>0.019255</td>\n",
       "      <td>1</td>\n",
       "    </tr>\n",
       "    <tr>\n",
       "      <th>3</th>\n",
       "      <td>30.760000</td>\n",
       "      <td>31.441999</td>\n",
       "      <td>30.224001</td>\n",
       "      <td>31.270666</td>\n",
       "      <td>31.270666</td>\n",
       "      <td>268231500</td>\n",
       "      <td>0.038801</td>\n",
       "      <td>1</td>\n",
       "    </tr>\n",
       "    <tr>\n",
       "      <th>4</th>\n",
       "      <td>31.580000</td>\n",
       "      <td>33.232666</td>\n",
       "      <td>31.215334</td>\n",
       "      <td>32.809334</td>\n",
       "      <td>32.809334</td>\n",
       "      <td>467164500</td>\n",
       "      <td>0.049205</td>\n",
       "      <td>1</td>\n",
       "    </tr>\n",
       "    <tr>\n",
       "      <th>...</th>\n",
       "      <td>...</td>\n",
       "      <td>...</td>\n",
       "      <td>...</td>\n",
       "      <td>...</td>\n",
       "      <td>...</td>\n",
       "      <td>...</td>\n",
       "      <td>...</td>\n",
       "      <td>...</td>\n",
       "    </tr>\n",
       "    <tr>\n",
       "      <th>751</th>\n",
       "      <td>126.370003</td>\n",
       "      <td>128.619995</td>\n",
       "      <td>121.019997</td>\n",
       "      <td>123.150002</td>\n",
       "      <td>123.150002</td>\n",
       "      <td>166989700</td>\n",
       "      <td>-0.017551</td>\n",
       "      <td>0</td>\n",
       "    </tr>\n",
       "    <tr>\n",
       "      <th>752</th>\n",
       "      <td>117.500000</td>\n",
       "      <td>119.669998</td>\n",
       "      <td>108.760002</td>\n",
       "      <td>109.099998</td>\n",
       "      <td>109.099998</td>\n",
       "      <td>208643400</td>\n",
       "      <td>-0.114089</td>\n",
       "      <td>0</td>\n",
       "    </tr>\n",
       "    <tr>\n",
       "      <th>753</th>\n",
       "      <td>110.349998</td>\n",
       "      <td>116.269997</td>\n",
       "      <td>108.239998</td>\n",
       "      <td>112.709999</td>\n",
       "      <td>112.709999</td>\n",
       "      <td>221070500</td>\n",
       "      <td>0.033089</td>\n",
       "      <td>1</td>\n",
       "    </tr>\n",
       "    <tr>\n",
       "      <th>754</th>\n",
       "      <td>120.389999</td>\n",
       "      <td>123.570000</td>\n",
       "      <td>117.500000</td>\n",
       "      <td>121.820000</td>\n",
       "      <td>121.820000</td>\n",
       "      <td>221923300</td>\n",
       "      <td>0.080827</td>\n",
       "      <td>1</td>\n",
       "    </tr>\n",
       "    <tr>\n",
       "      <th>755</th>\n",
       "      <td>119.949997</td>\n",
       "      <td>124.480003</td>\n",
       "      <td>119.750000</td>\n",
       "      <td>123.180000</td>\n",
       "      <td>123.180000</td>\n",
       "      <td>157777300</td>\n",
       "      <td>0.011164</td>\n",
       "      <td>1</td>\n",
       "    </tr>\n",
       "  </tbody>\n",
       "</table>\n",
       "<p>756 rows × 8 columns</p>\n",
       "</div>"
      ],
      "text/plain": [
       "           Open        High         Low       Close   Adj Close     Volume  \\\n",
       "0     28.299999   28.713333   28.114000   28.684000   28.684000  142981500   \n",
       "1     29.366667   30.266666   29.128000   29.534000   29.534000  266677500   \n",
       "2     29.364668   30.104000   29.333332   30.102667   30.102667  151995000   \n",
       "3     30.760000   31.441999   30.224001   31.270666   31.270666  268231500   \n",
       "4     31.580000   33.232666   31.215334   32.809334   32.809334  467164500   \n",
       "..          ...         ...         ...         ...         ...        ...   \n",
       "751  126.370003  128.619995  121.019997  123.150002  123.150002  166989700   \n",
       "752  117.500000  119.669998  108.760002  109.099998  109.099998  208643400   \n",
       "753  110.349998  116.269997  108.239998  112.709999  112.709999  221070500   \n",
       "754  120.389999  123.570000  117.500000  121.820000  121.820000  221923300   \n",
       "755  119.949997  124.480003  119.750000  123.180000  123.180000  157777300   \n",
       "\n",
       "       Return  Output  \n",
       "0    0.002965       1  \n",
       "1    0.029633       1  \n",
       "2    0.019255       1  \n",
       "3    0.038801       1  \n",
       "4    0.049205       1  \n",
       "..        ...     ...  \n",
       "751 -0.017551       0  \n",
       "752 -0.114089       0  \n",
       "753  0.033089       1  \n",
       "754  0.080827       1  \n",
       "755  0.011164       1  \n",
       "\n",
       "[756 rows x 8 columns]"
      ]
     },
     "execution_count": 6,
     "metadata": {},
     "output_type": "execute_result"
    }
   ],
   "source": [
    "# add a column of close price return \n",
    "data['Return'] = data['Close'].pct_change()\n",
    "\n",
    "# generate binary output \n",
    "\n",
    "def output(value):\n",
    "    if value > 0:\n",
    "        return 1\n",
    "    elif pd.isna(value):\n",
    "        return np.nan\n",
    "    else:\n",
    "        return 0\n",
    "\n",
    "# replace nan values for 1st day with mean    \n",
    "data = data.fillna(data.mean(skipna = True))\n",
    "\n",
    "data['Output'] = data['Return'].apply(output)\n",
    "data"
   ]
  },
  {
   "cell_type": "code",
   "execution_count": 7,
   "id": "19859b63",
   "metadata": {},
   "outputs": [],
   "source": [
    "# split dataset into test and train \n",
    "X = data.iloc[:, 0:6]\n",
    "y = data.iloc[:, 7]\n",
    "X_train, X_test, y_train, y_test = train_test_split(X, y, random_state = 0, test_size = 0.2)"
   ]
  },
  {
   "cell_type": "code",
   "execution_count": 8,
   "id": "8a60a844",
   "metadata": {},
   "outputs": [],
   "source": [
    "# will be using euclidean distance later -> feature scaling \n",
    "sc_X = StandardScaler()\n",
    "X_train = sc_X.fit_transform(X_train)\n",
    "X_test = sc_X.fit_transform(X_test)"
   ]
  },
  {
   "cell_type": "code",
   "execution_count": 9,
   "id": "f0a6b5be",
   "metadata": {},
   "outputs": [
    {
     "data": {
      "text/plain": [
       "KNeighborsClassifier(metric='euclidean', n_neighbors=13)"
      ]
     },
     "execution_count": 9,
     "metadata": {},
     "output_type": "execute_result"
    }
   ],
   "source": [
    "# now will write initialize knn model\n",
    "n = int(math.sqrt(len(y_test)))\n",
    "if n % 2 == 0:\n",
    "    n += 1\n",
    "\n",
    "classifier = KNeighborsClassifier(n_neighbors = n, p = 2, metric = 'euclidean')\n",
    "classifier.fit(X_train, y_train)"
   ]
  },
  {
   "cell_type": "code",
   "execution_count": 10,
   "id": "88afa547",
   "metadata": {},
   "outputs": [
    {
     "name": "stdout",
     "output_type": "stream",
     "text": [
      "152\n",
      "88\n"
     ]
    }
   ],
   "source": [
    "# predict result\n",
    "y_pred = classifier.predict(X_test)\n",
    "\n",
    "print(len(y_pred))\n",
    "print(y_pred.sum())"
   ]
  },
  {
   "cell_type": "code",
   "execution_count": 11,
   "id": "0ef3ac28",
   "metadata": {},
   "outputs": [
    {
     "name": "stdout",
     "output_type": "stream",
     "text": [
      "[[29 34]\n",
      " [35 54]]\n",
      "f1 score: 0.6101694915254238\n",
      "Accuracy score: 0.5460526315789473\n"
     ]
    }
   ],
   "source": [
    "# interpret result with confusion matrix\n",
    "cm = confusion_matrix(y_test, y_pred)\n",
    "print(cm)\n",
    "\n",
    "# interpret result with f1 score\n",
    "print(f\"f1 score: {f1_score(y_test, y_pred)}\")\n",
    "\n",
    "# interpret result with accuracy score\n",
    "print(f\"Accuracy score: {accuracy_score(y_test, y_pred)}\")"
   ]
  },
  {
   "cell_type": "code",
   "execution_count": 12,
   "id": "50ccbaa1",
   "metadata": {},
   "outputs": [
    {
     "data": {
      "image/png": "[encoded data removed]",
      "text/plain": [
       "<Figure size 576x432 with 2 Axes>"
      ]
     },
     "metadata": {
      "needs_background": "light"
     },
     "output_type": "display_data"
    }
   ],
   "source": [
    "plt.figure(figsize=(8, 6))\n",
    "sns.heatmap(cm, annot=True, fmt='d', cmap='Blues', xticklabels=classifier.classes_, yticklabels=classifier.classes_)\n",
    "plt.title('Confusion Matrix')\n",
    "plt.ylabel('True Label')\n",
    "plt.xlabel('Predicted Label')\n",
    "plt.savefig('confusion_matrix.png', format='png', dpi=300)\n",
    "\n",
    "plt.show() "
   ]
  },
  {
   "cell_type": "code",
   "execution_count": 13,
   "id": "4ba84256",
   "metadata": {},
   "outputs": [
    {
     "data": {
      "image/png": "[encoded data removed]",
      "text/plain": [
       "<Figure size 720x576 with 1 Axes>"
      ]
     },
     "metadata": {
      "needs_background": "light"
     },
     "output_type": "display_data"
    }
   ],
   "source": [
    "plt.figure(figsize=(10, 8))\n",
    "scatter = plt.scatter(X_test[:, 0], X_test[:, 1], c=y_pred, cmap='viridis', edgecolor='k', alpha=0.7)\n",
    "plt.title('Test set predictions')\n",
    "plt.xlabel('Feature 1')\n",
    "plt.ylabel('Feature 2')\n",
    "plt.legend(*scatter.legend_elements(), title=\"Classes\")\n",
    "plt.savefig('knn_predictions.png', format='png', dpi=300)\n",
    "\n",
    "plt.show()\n"
   ]
  },
  {
   "cell_type": "code",
   "execution_count": null,
   "id": "dee16ae8",
   "metadata": {},
   "outputs": [],
   "source": []
  }
 ],
 "metadata": {
  "kernelspec": {
   "display_name": "Python 3 (ipykernel)",
   "language": "python",
   "name": "python3"
  },
  "language_info": {
   "codemirror_mode": {
    "name": "ipython",
    "version": 3
   },
   "file_extension": ".py",
   "mimetype": "text/x-python",
   "name": "python",
   "nbconvert_exporter": "python",
   "pygments_lexer": "ipython3",
   "version": "3.9.12"
  }
 },
 "nbformat": 4,
 "nbformat_minor": 5
}
