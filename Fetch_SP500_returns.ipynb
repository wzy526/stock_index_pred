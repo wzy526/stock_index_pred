{
 "cells": [
  {
   "cell_type": "code",
   "execution_count": 2,
   "id": "6eefee65",
   "metadata": {},
   "outputs": [],
   "source": [
    "import numpy as np\n",
    "import pandas as pd\n",
    "import yfinance as yf\n",
    "from datetime import datetime"
   ]
  },
  {
   "cell_type": "code",
   "execution_count": 3,
   "id": "60abe901",
   "metadata": {},
   "outputs": [],
   "source": [
    "# read in the sp500 list file \n",
    "list = pd.read_csv('SP500_list.csv', index_col = False)"
   ]
  },
  {
   "cell_type": "code",
   "execution_count": 4,
   "id": "ce0f9b7e",
   "metadata": {
    "scrolled": true
   },
   "outputs": [
    {
     "name": "stdout",
     "output_type": "stream",
     "text": [
      "505\n"
     ]
    }
   ],
   "source": [
    "list = list.drop(list.columns[[1, 2]],axis = 1)\n",
    "print(len(list))"
   ]
  },
  {
   "cell_type": "code",
   "execution_count": 5,
   "id": "84c47478",
   "metadata": {},
   "outputs": [
    {
     "name": "stdout",
     "output_type": "stream",
     "text": [
      "478\n"
     ]
    }
   ],
   "source": [
    "t_lst = list.values.tolist()\n",
    "t_lst = [item[0] for item in t_lst]\n",
    "# this is very dumb way to clean data, but will do for now\n",
    "# Used latest SP500 ticker list, some stocks weren't added to SP500 as of 2020-1-1, therefore removed \n",
    "list_remove = ['ABC','ANTM','BLL','BRK.B','BF.B','CERN','CTXS','DISCA','DISCK','DRE','RE',\n",
    "               'FB','FRC','FISV','FBHS','KSU','INFO','NLSN','NLOK','PBCT','PKI','SIVB',\n",
    "               'TWTR','VIAC','WLTW','XLNX','MMM']\n",
    "for i in list_remove:\n",
    "    if i in t_lst:\n",
    "        t_lst.remove(i)\n",
    "print(len(t_lst))"
   ]
  },
  {
   "cell_type": "code",
   "execution_count": 6,
   "id": "8fe37169",
   "metadata": {
    "scrolled": true
   },
   "outputs": [],
   "source": [
    "# fetch the data from Yahoo Finance\n",
    "# close price used\n",
    "\n",
    "start_date = '2020-01-01'\n",
    "end_date = '2023-01-01'\n",
    "\n",
    "df = pd.DataFrame() \n",
    "stocks_not_downloaded = []\n",
    "\n",
    "for ticker in t_lst:\n",
    "#     if df.empty:\n",
    "#         print(\"No Data for :\", ticker)\n",
    "#         stocks_not_downloaded.append(ticker)\n",
    "#         pass\n",
    "    data = yf.download(ticker, start = start_date, end = end_date, progress = False)['Close'].to_frame(name = ticker)\n",
    "    df = pd.concat([df,data], axis = 1)\n",
    "   "
   ]
  },
  {
   "cell_type": "code",
   "execution_count": 11,
   "id": "80b0c435",
   "metadata": {},
   "outputs": [],
   "source": [
    "#Generate SP500 normal return data\n",
    "norm_rtn = df.pct_change()\n",
    "norm_rtn.to_csv('SP500_normal_return.csv')"
   ]
  },
  {
   "cell_type": "code",
   "execution_count": 12,
   "id": "a995e184",
   "metadata": {},
   "outputs": [],
   "source": [
    "# Generate SP500 demeaned log return data\n",
    "log_rtn = np.log(df) - np.log(df.shift(1))\n",
    "\n",
    "demeaned_log_rtn = pd.DataFrame()\n",
    "\n",
    "for column in log_rtn.columns:\n",
    "    mean_returns = log_rtn[column].mean()\n",
    "    demeaned_returns = log_rtn[column] - mean_returns\n",
    "    demeaned_log_rtn = pd.concat([demeaned_log_rtn,demeaned_returns], axis = 1)\n",
    "\n",
    "demeaned_log_rtn.to_csv('SP500_demeaned_log_return.csv')"
   ]
  },
  {
   "cell_type": "code",
   "execution_count": null,
   "id": "e6ab8e69",
   "metadata": {},
   "outputs": [],
   "source": []
  }
 ],
 "metadata": {
  "kernelspec": {
   "display_name": "Python 3 (ipykernel)",
   "language": "python",
   "name": "python3"
  },
  "language_info": {
   "codemirror_mode": {
    "name": "ipython",
    "version": 3
   },
   "file_extension": ".py",
   "mimetype": "text/x-python",
   "name": "python",
   "nbconvert_exporter": "python",
   "pygments_lexer": "ipython3",
   "version": "3.9.12"
  }
 },
 "nbformat": 4,
 "nbformat_minor": 5
}
